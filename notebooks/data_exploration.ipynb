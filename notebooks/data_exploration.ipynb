{
 "cells": [
  {
   "cell_type": "code",
   "execution_count": 2,
   "metadata": {},
   "outputs": [],
   "source": [
    "import pandas as pd \n",
    "import os \n",
    "import glob\n",
    "import numpy as np\n",
    "\n",
    "import pickle"
   ]
  },
  {
   "cell_type": "code",
   "execution_count": 2,
   "metadata": {},
   "outputs": [],
   "source": [
    "path = \"/home/maha.agro/thesis/bert_lnl/BERT-LNL/data/hausa_newsclass/files\"\n",
    "all_files = glob.glob(os.path.join(path, \"*.csv\"))\n",
    "\n",
    "li = []\n",
    "\n",
    "for filename in all_files:\n",
    "    df = pd.read_csv(filename, index_col=None, header=0)\n",
    "    li.append(df)\n",
    "\n",
    "combined = pd.concat(li, axis=0, ignore_index=True)"
   ]
  },
  {
   "cell_type": "code",
   "execution_count": 35,
   "metadata": {},
   "outputs": [],
   "source": [
    "train_df = pd.read_csv(os.path.join(path, \"train.csv\"))\n",
    "test_df = pd.read_csv(os.path.join(path, \"test.csv\"))"
   ]
  },
  {
   "cell_type": "code",
   "execution_count": 46,
   "metadata": {},
   "outputs": [],
   "source": [
    "train_df_ft = pd.read_csv(\"/home/maha.agro/thesis/bert_lnl/BERT-LNL/data/hausa_newsclass/features/Hausa_train_features.csv\", header=None)\n",
    "test_df_ft = pd.read_csv(\"/home/maha.agro/thesis/bert_lnl/BERT-LNL/data/hausa_newsclass/features/Hausa_test_features.csv\", header=None)"
   ]
  },
  {
   "cell_type": "code",
   "execution_count": 7,
   "metadata": {},
   "outputs": [
    {
     "data": {
      "text/plain": [
       "1    1980\n",
       "4     751\n",
       "3     642\n",
       "2     202\n",
       "0     177\n",
       "Name: label, dtype: int64"
      ]
     },
     "execution_count": 7,
     "metadata": {},
     "output_type": "execute_result"
    }
   ],
   "source": [
    "combined[\"label\"].value_counts()"
   ]
  },
  {
   "cell_type": "code",
   "execution_count": 16,
   "metadata": {},
   "outputs": [],
   "source": [
    "df_t = pd.read_csv(\"/home/maha.agro/thesis/bert_lnl/BERT-LNL/data/hausa_newsclass/files/train_noisy.tsv\", sep=\"\\t\", header=0)"
   ]
  },
  {
   "cell_type": "code",
   "execution_count": 17,
   "metadata": {},
   "outputs": [],
   "source": [
    "df_test = pd.read_csv(\"/home/maha.agro/thesis/bert_lnl/BERT-LNL/data/hausa_newsclass/files/test.tsv\", sep=\"\\t\", header=0)"
   ]
  },
  {
   "cell_type": "code",
   "execution_count": 21,
   "metadata": {},
   "outputs": [],
   "source": [
    "df_dev = pd.read_csv(\"/home/maha.agro/thesis/bert_lnl/BERT-LNL/data/hausa_newsclass/files/dev.tsv\", sep=\"\\t\", header=0)"
   ]
  },
  {
   "cell_type": "code",
   "execution_count": 22,
   "metadata": {},
   "outputs": [],
   "source": [
    "combined_t = pd.concat([df_t, df_test, df_dev], axis=0, ignore_index=True)"
   ]
  },
  {
   "cell_type": "code",
   "execution_count": 23,
   "metadata": {},
   "outputs": [
    {
     "data": {
      "text/plain": [
       "4042"
      ]
     },
     "execution_count": 23,
     "metadata": {},
     "output_type": "execute_result"
    }
   ],
   "source": [
    "len(combined_t)"
   ]
  },
  {
   "cell_type": "code",
   "execution_count": 24,
   "metadata": {},
   "outputs": [
    {
     "data": {
      "text/plain": [
       "World       2060\n",
       "Africa       796\n",
       "Nigeria      705\n",
       "Health       264\n",
       "Politics     217\n",
       "Name: label, dtype: int64"
      ]
     },
     "execution_count": 24,
     "metadata": {},
     "output_type": "execute_result"
    }
   ],
   "source": [
    "combined_t[\"label\"].value_counts()"
   ]
  },
  {
   "cell_type": "code",
   "execution_count": 52,
   "metadata": {},
   "outputs": [],
   "source": [
    "X_train = train_df_ft.to_numpy()\n",
    "y_train = train_df[\"label\"].to_numpy()"
   ]
  },
  {
   "cell_type": "code",
   "execution_count": 53,
   "metadata": {},
   "outputs": [],
   "source": [
    "X_test = test_df_ft.to_numpy()\n",
    "y_test = test_df[\"label\"].to_numpy()"
   ]
  },
  {
   "cell_type": "code",
   "execution_count": 54,
   "metadata": {},
   "outputs": [
    {
     "data": {
      "text/plain": [
       "((3170, 768), (3170,), (582, 768), (582,))"
      ]
     },
     "execution_count": 54,
     "metadata": {},
     "output_type": "execute_result"
    }
   ],
   "source": [
    "X_train.shape, y_train.shape, X_test.shape, y_test.shape"
   ]
  },
  {
   "cell_type": "code",
   "execution_count": 55,
   "metadata": {},
   "outputs": [],
   "source": [
    "from imblearn.over_sampling import SMOTE"
   ]
  },
  {
   "cell_type": "code",
   "execution_count": 56,
   "metadata": {},
   "outputs": [
    {
     "name": "stderr",
     "output_type": "stream",
     "text": [
      "/home/maha.agro/thesis/bert_lnl/BERT-LNL/bert_lnl0/lib/python3.8/site-packages/imblearn/utils/_validation.py:586: FutureWarning: Pass sampling_strategy=minority as keyword args. From version 0.9 passing these as positional arguments will result in an error\n",
      "  warnings.warn(\n"
     ]
    }
   ],
   "source": [
    "smote = SMOTE(\"minority\")\n",
    "\n",
    "# error in tutorial, this needs to be resample, not sample\n",
    "X_sm, y_sm = smote.fit_resample(X_train, y_train)"
   ]
  },
  {
   "cell_type": "code",
   "execution_count": 57,
   "metadata": {},
   "outputs": [
    {
     "data": {
      "text/plain": [
       "((4912, 768), (4912,))"
      ]
     },
     "execution_count": 57,
     "metadata": {},
     "output_type": "execute_result"
    }
   ],
   "source": [
    "X_sm.shape, y_sm.shape"
   ]
  },
  {
   "cell_type": "code",
   "execution_count": 60,
   "metadata": {},
   "outputs": [
    {
     "data": {
      "text/plain": [
       "2"
      ]
     },
     "execution_count": 60,
     "metadata": {},
     "output_type": "execute_result"
    }
   ],
   "source": [
    "y_sm[-1]"
   ]
  },
  {
   "cell_type": "code",
   "execution_count": 62,
   "metadata": {},
   "outputs": [],
   "source": [
    "import numpy as np"
   ]
  },
  {
   "cell_type": "code",
   "execution_count": 63,
   "metadata": {},
   "outputs": [],
   "source": [
    "np.savetxt(\"Hausa_train_features_balanced.csv\", X_sm, delimiter=\",\")"
   ]
  },
  {
   "cell_type": "code",
   "execution_count": 64,
   "metadata": {},
   "outputs": [],
   "source": [
    "np.savetxt(\"Hausa_train_labels.csv\", y_sm, delimiter=\",\")"
   ]
  },
  {
   "cell_type": "markdown",
   "metadata": {},
   "source": [
    "# Formatting Yoruba Dataset"
   ]
  },
  {
   "cell_type": "code",
   "execution_count": 7,
   "metadata": {},
   "outputs": [],
   "source": [
    "# split into train, validation, test, txt\n",
    "path = \"/home/maha.agro/thesis/bert_lnl/BERT-LNL/data\""
   ]
  },
  {
   "cell_type": "code",
   "execution_count": 8,
   "metadata": {},
   "outputs": [
    {
     "data": {
      "text/plain": [
       "'/Yoruba/csv_data/train_clean_noisy_labels.csv'"
      ]
     },
     "execution_count": 8,
     "metadata": {},
     "output_type": "execute_result"
    }
   ],
   "source": [
    "# create a label to idx file \n",
    "# check labels in yoruba \n",
    "os.path.join(path, \"/Yoruba/csv_data/train_clean_noisy_labels.csv\")"
   ]
  },
  {
   "cell_type": "code",
   "execution_count": 9,
   "metadata": {},
   "outputs": [
    {
     "data": {
      "text/html": [
       "<div>\n",
       "<style scoped>\n",
       "    .dataframe tbody tr th:only-of-type {\n",
       "        vertical-align: middle;\n",
       "    }\n",
       "\n",
       "    .dataframe tbody tr th {\n",
       "        vertical-align: top;\n",
       "    }\n",
       "\n",
       "    .dataframe thead th {\n",
       "        text-align: right;\n",
       "    }\n",
       "</style>\n",
       "<table border=\"1\" class=\"dataframe\">\n",
       "  <thead>\n",
       "    <tr style=\"text-align: right;\">\n",
       "      <th></th>\n",
       "      <th>news_title</th>\n",
       "      <th>label</th>\n",
       "    </tr>\n",
       "  </thead>\n",
       "  <tbody>\n",
       "    <tr>\n",
       "      <th>0</th>\n",
       "      <td>Xenophobic Attack: Awọn ọmọ Nàìjíria tí yarí p...</td>\n",
       "      <td>0</td>\n",
       "    </tr>\n",
       "    <tr>\n",
       "      <th>1</th>\n",
       "      <td>Árẹ̀wá: Bákan náà ni a kò fẹ́ Atiku torí dúkìá...</td>\n",
       "      <td>3</td>\n",
       "    </tr>\n",
       "    <tr>\n",
       "      <th>2</th>\n",
       "      <td>2019 Election update: Buhari borí; ó di ààrẹ N...</td>\n",
       "      <td>3</td>\n",
       "    </tr>\n",
       "    <tr>\n",
       "      <th>3</th>\n",
       "      <td>Nathaniel Samuel: Ìwádìí tí bẹ̀rẹ̀ lórí afuras...</td>\n",
       "      <td>5</td>\n",
       "    </tr>\n",
       "    <tr>\n",
       "      <th>4</th>\n",
       "      <td>Yoruba Film: Ṣé ẹ máa wá ní Pasuma ni mo bí àw...</td>\n",
       "      <td>4</td>\n",
       "    </tr>\n",
       "    <tr>\n",
       "      <th>...</th>\n",
       "      <td>...</td>\n",
       "      <td>...</td>\n",
       "    </tr>\n",
       "    <tr>\n",
       "      <th>1335</th>\n",
       "      <td>BB Naija 2019: Ọlọ́pàá Gẹ̀ẹ́sì bẹ̀rẹ̀ ìwádìí l...</td>\n",
       "      <td>4</td>\n",
       "    </tr>\n",
       "    <tr>\n",
       "      <th>1336</th>\n",
       "      <td>End of a decade: Àwọn ìròyìn mẹ́wàá tó mí ilẹ̀...</td>\n",
       "      <td>1</td>\n",
       "    </tr>\n",
       "    <tr>\n",
       "      <th>1337</th>\n",
       "      <td>Electoral bill 2018: Èrèèdí wàhálà láàárín Buh...</td>\n",
       "      <td>3</td>\n",
       "    </tr>\n",
       "    <tr>\n",
       "      <th>1338</th>\n",
       "      <td>Onitsha market fire: Ilé tó lé ni 100 ló bá ìṣ...</td>\n",
       "      <td>1</td>\n",
       "    </tr>\n",
       "    <tr>\n",
       "      <th>1339</th>\n",
       "      <td>Election Tribunal: INEC ní òfin kò ní kí èsì ì...</td>\n",
       "      <td>3</td>\n",
       "    </tr>\n",
       "  </tbody>\n",
       "</table>\n",
       "<p>1340 rows × 2 columns</p>\n",
       "</div>"
      ],
      "text/plain": [
       "                                             news_title  label\n",
       "0     Xenophobic Attack: Awọn ọmọ Nàìjíria tí yarí p...      0\n",
       "1     Árẹ̀wá: Bákan náà ni a kò fẹ́ Atiku torí dúkìá...      3\n",
       "2     2019 Election update: Buhari borí; ó di ààrẹ N...      3\n",
       "3     Nathaniel Samuel: Ìwádìí tí bẹ̀rẹ̀ lórí afuras...      5\n",
       "4     Yoruba Film: Ṣé ẹ máa wá ní Pasuma ni mo bí àw...      4\n",
       "...                                                 ...    ...\n",
       "1335  BB Naija 2019: Ọlọ́pàá Gẹ̀ẹ́sì bẹ̀rẹ̀ ìwádìí l...      4\n",
       "1336  End of a decade: Àwọn ìròyìn mẹ́wàá tó mí ilẹ̀...      1\n",
       "1337  Electoral bill 2018: Èrèèdí wàhálà láàárín Buh...      3\n",
       "1338  Onitsha market fire: Ilé tó lé ni 100 ló bá ìṣ...      1\n",
       "1339  Election Tribunal: INEC ní òfin kò ní kí èsì ì...      3\n",
       "\n",
       "[1340 rows x 2 columns]"
      ]
     },
     "execution_count": 9,
     "metadata": {},
     "output_type": "execute_result"
    }
   ],
   "source": [
    "# first get the texts in train_clean_noisy\n",
    "# save each document per line \n",
    "# read file in pandas data frame \n",
    "\n",
    "yoruba_train = pd.read_csv('/home/maha.agro/thesis/bert_lnl/BERT-LNL/data/Yoruba/csv_data/train_clean_noisy_labels.csv')\n",
    "yoruba_train"
   ]
  },
  {
   "cell_type": "code",
   "execution_count": 10,
   "metadata": {},
   "outputs": [],
   "source": [
    "labels = set(yoruba_train[\"label\"].values)"
   ]
  },
  {
   "cell_type": "code",
   "execution_count": 9,
   "metadata": {},
   "outputs": [
    {
     "data": {
      "text/plain": [
       "{'africa', 'entertainment', 'health', 'nigeria', 'politics', 'sport', 'world'}"
      ]
     },
     "execution_count": 9,
     "metadata": {},
     "output_type": "execute_result"
    }
   ],
   "source": [
    "labels "
   ]
  },
  {
   "cell_type": "code",
   "execution_count": 32,
   "metadata": {},
   "outputs": [],
   "source": [
    "# creating a dictionary, 0 indexing \n",
    "lb2idx = {\"africa\": 0, \"nigeria\": 1, \"health\": 2, \"politics\": 3, \"entertainment\": 4, \"sport\": 5, \"world\": 6}"
   ]
  },
  {
   "cell_type": "code",
   "execution_count": 33,
   "metadata": {},
   "outputs": [],
   "source": [
    "with open(\"/home/maha.agro/thesis/bert_lnl/BERT-LNL/data/Yoruba/txt_data/lb2idx.pickle\", \"wb\") as lb2idx_file:\n",
    "        pickle.dump(lb2idx, lb2idx_file)"
   ]
  },
  {
   "cell_type": "code",
   "execution_count": 34,
   "metadata": {},
   "outputs": [],
   "source": [
    "idx2lb = {0: \"africa\", 1: \"nigeria\", 2: \"health\", 3: \"politics\", 4: \"entertainment\", 5: \"sport\", 6: \"world\"}"
   ]
  },
  {
   "cell_type": "code",
   "execution_count": 35,
   "metadata": {},
   "outputs": [],
   "source": [
    "with open(\"/home/maha.agro/thesis/bert_lnl/BERT-LNL/data/Yoruba/txt_data/idx2lb.pickle\", \"wb\") as idx2lb_file:\n",
    "        pickle.dump(idx2lb, idx2lb_file)"
   ]
  },
  {
   "cell_type": "code",
   "execution_count": 14,
   "metadata": {},
   "outputs": [
    {
     "data": {
      "text/plain": [
       "array(['Xenophobic Attack: Awọn ọmọ Nàìjíria tí yarí pé àwọn náà yóò gbẹ̀san',\n",
       "       'Árẹ̀wá: Bákan náà ni a kò fẹ́ Atiku torí dúkìá àjọni wà tó fẹ́ tà',\n",
       "       '2019 Election update: Buhari borí; ó di ààrẹ Nàìjíríà tuntun',\n",
       "       ...,\n",
       "       'Electoral bill 2018: Èrèèdí wàhálà láàárín Buhari àtàwọn aṣòfin àpapọ̀ lórí òfin ìdìbò 2018',\n",
       "       'Onitsha market fire: Ilé tó lé ni 100 ló bá ìṣẹ̀lẹ̀ ìjàmbá iná lọ ní Onitsha',\n",
       "       \"Election Tribunal: INEC ní òfin kò ní kí èsì ìbò ààrẹ wà lórí ''server''\"],\n",
       "      dtype=object)"
      ]
     },
     "execution_count": 14,
     "metadata": {},
     "output_type": "execute_result"
    }
   ],
   "source": [
    "yoruba_train[\"news_title\"].values"
   ]
  },
  {
   "cell_type": "code",
   "execution_count": 15,
   "metadata": {},
   "outputs": [],
   "source": [
    "np.savetxt(\"/home/maha.agro/thesis/bert_lnl/BERT-LNL/data/Yoruba/txt_data/train.txt\", yoruba_train[\"news_title\"].values, fmt=\"%s\")"
   ]
  },
  {
   "cell_type": "code",
   "execution_count": 14,
   "metadata": {},
   "outputs": [],
   "source": [
    "## Validation dataset"
   ]
  },
  {
   "cell_type": "code",
   "execution_count": 37,
   "metadata": {},
   "outputs": [
    {
     "data": {
      "text/html": [
       "<div>\n",
       "<style scoped>\n",
       "    .dataframe tbody tr th:only-of-type {\n",
       "        vertical-align: middle;\n",
       "    }\n",
       "\n",
       "    .dataframe tbody tr th {\n",
       "        vertical-align: top;\n",
       "    }\n",
       "\n",
       "    .dataframe thead th {\n",
       "        text-align: right;\n",
       "    }\n",
       "</style>\n",
       "<table border=\"1\" class=\"dataframe\">\n",
       "  <thead>\n",
       "    <tr style=\"text-align: right;\">\n",
       "      <th></th>\n",
       "      <th>news_title</th>\n",
       "      <th>label</th>\n",
       "    </tr>\n",
       "  </thead>\n",
       "  <tbody>\n",
       "    <tr>\n",
       "      <th>0</th>\n",
       "      <td>UNILAG Child Molestation: Ọ̀jọ̀gbọ́n Fagbohung...</td>\n",
       "      <td>1</td>\n",
       "    </tr>\n",
       "    <tr>\n",
       "      <th>1</th>\n",
       "      <td>9th Assembly: Dogara kìlọ̀ fáwọn ẹgbẹ́ òṣèlú l...</td>\n",
       "      <td>3</td>\n",
       "    </tr>\n",
       "    <tr>\n",
       "      <th>2</th>\n",
       "      <td>Illegal Rehab Centre: Feb 2008 ni wọ́n fẹ̀ṣùn ...</td>\n",
       "      <td>1</td>\n",
       "    </tr>\n",
       "    <tr>\n",
       "      <th>3</th>\n",
       "      <td>Omí pọ̀ ju ọkà lọ fún Unai Emery, ìfìdírẹ̀mi m...</td>\n",
       "      <td>5</td>\n",
       "    </tr>\n",
       "    <tr>\n",
       "      <th>4</th>\n",
       "      <td>Logo Benz: Ìtanijí ni orin wa wà fún, Ẹ má ká ...</td>\n",
       "      <td>4</td>\n",
       "    </tr>\n",
       "    <tr>\n",
       "      <th>...</th>\n",
       "      <td>...</td>\n",
       "      <td>...</td>\n",
       "    </tr>\n",
       "    <tr>\n",
       "      <th>184</th>\n",
       "      <td>Shiite Movement: Shiite fèsì lórí àṣẹ ilé ẹjọ́...</td>\n",
       "      <td>1</td>\n",
       "    </tr>\n",
       "    <tr>\n",
       "      <th>185</th>\n",
       "      <td>9th Assembly: PDP ní láìpẹ́ làwọn aráàlú yóò m...</td>\n",
       "      <td>3</td>\n",
       "    </tr>\n",
       "    <tr>\n",
       "      <th>186</th>\n",
       "      <td>Adekunle Gold: Ọdún márùn ún ni mo fi mọ Simi ...</td>\n",
       "      <td>4</td>\n",
       "    </tr>\n",
       "    <tr>\n",
       "      <th>187</th>\n",
       "      <td>Biafra at 50: Ọ̀nà tí ẹja panla gbà di gbajúgb...</td>\n",
       "      <td>1</td>\n",
       "    </tr>\n",
       "    <tr>\n",
       "      <th>188</th>\n",
       "      <td>Death at Airport: Ọkùnrin kan jáde láyé bó ṣe ...</td>\n",
       "      <td>1</td>\n",
       "    </tr>\n",
       "  </tbody>\n",
       "</table>\n",
       "<p>189 rows × 2 columns</p>\n",
       "</div>"
      ],
      "text/plain": [
       "                                            news_title  label\n",
       "0    UNILAG Child Molestation: Ọ̀jọ̀gbọ́n Fagbohung...      1\n",
       "1    9th Assembly: Dogara kìlọ̀ fáwọn ẹgbẹ́ òṣèlú l...      3\n",
       "2    Illegal Rehab Centre: Feb 2008 ni wọ́n fẹ̀ṣùn ...      1\n",
       "3    Omí pọ̀ ju ọkà lọ fún Unai Emery, ìfìdírẹ̀mi m...      5\n",
       "4    Logo Benz: Ìtanijí ni orin wa wà fún, Ẹ má ká ...      4\n",
       "..                                                 ...    ...\n",
       "184  Shiite Movement: Shiite fèsì lórí àṣẹ ilé ẹjọ́...      1\n",
       "185  9th Assembly: PDP ní láìpẹ́ làwọn aráàlú yóò m...      3\n",
       "186  Adekunle Gold: Ọdún márùn ún ni mo fi mọ Simi ...      4\n",
       "187  Biafra at 50: Ọ̀nà tí ẹja panla gbà di gbajúgb...      1\n",
       "188  Death at Airport: Ọkùnrin kan jáde láyé bó ṣe ...      1\n",
       "\n",
       "[189 rows x 2 columns]"
      ]
     },
     "execution_count": 37,
     "metadata": {},
     "output_type": "execute_result"
    }
   ],
   "source": [
    "yoruba_val = pd.read_csv(os.path.join(path, \"distant_supervision_dataset/yoruba_newsclass/dev.csv\"))\n",
    "yoruba_val"
   ]
  },
  {
   "cell_type": "code",
   "execution_count": 17,
   "metadata": {},
   "outputs": [],
   "source": [
    "np.savetxt(\"/home/maha.agro/thesis/bert_lnl/BERT-LNL/data/Yoruba/txt_data/validation_clean.txt\", yoruba_val[\"news_title\"].values, fmt=\"%s\")"
   ]
  },
  {
   "cell_type": "code",
   "execution_count": 38,
   "metadata": {},
   "outputs": [
    {
     "data": {
      "text/html": [
       "<div>\n",
       "<style scoped>\n",
       "    .dataframe tbody tr th:only-of-type {\n",
       "        vertical-align: middle;\n",
       "    }\n",
       "\n",
       "    .dataframe tbody tr th {\n",
       "        vertical-align: top;\n",
       "    }\n",
       "\n",
       "    .dataframe thead th {\n",
       "        text-align: right;\n",
       "    }\n",
       "</style>\n",
       "<table border=\"1\" class=\"dataframe\">\n",
       "  <thead>\n",
       "    <tr style=\"text-align: right;\">\n",
       "      <th></th>\n",
       "      <th>news_title</th>\n",
       "      <th>label</th>\n",
       "    </tr>\n",
       "  </thead>\n",
       "  <tbody>\n",
       "    <tr>\n",
       "      <th>0</th>\n",
       "      <td>Àwọn ìgbà tí jándùkú òṣèlú tí wáyé ní Nàìjíríà</td>\n",
       "      <td>1</td>\n",
       "    </tr>\n",
       "    <tr>\n",
       "      <th>1</th>\n",
       "      <td>Tanko Mohammed: Agbẹjọ́rò 250 ni Adájọ́ Àgbà ṣ...</td>\n",
       "      <td>1</td>\n",
       "    </tr>\n",
       "    <tr>\n",
       "      <th>2</th>\n",
       "      <td>Boko Haram: Ilé iṣẹ́ ọmọogun kò sọ fún mi pé ọ...</td>\n",
       "      <td>1</td>\n",
       "    </tr>\n",
       "    <tr>\n",
       "      <th>3</th>\n",
       "      <td>SSANU, NASU gbé fásitì Ibadan tì pa nítorí ìya...</td>\n",
       "      <td>1</td>\n",
       "    </tr>\n",
       "    <tr>\n",
       "      <th>4</th>\n",
       "      <td>Tanker Fire: Eré àṣàpajúdé tí ọkọ́ epo náà sá ...</td>\n",
       "      <td>1</td>\n",
       "    </tr>\n",
       "    <tr>\n",
       "      <th>...</th>\n",
       "      <td>...</td>\n",
       "      <td>...</td>\n",
       "    </tr>\n",
       "    <tr>\n",
       "      <th>374</th>\n",
       "      <td>Òbìnrin mánigbàgbé mẹ́ta nínú ìjọba tiwantiwa ...</td>\n",
       "      <td>3</td>\n",
       "    </tr>\n",
       "    <tr>\n",
       "      <th>375</th>\n",
       "      <td>Bauchi Elections: Gómínà Abubakar ti kí Mohamm...</td>\n",
       "      <td>3</td>\n",
       "    </tr>\n",
       "    <tr>\n",
       "      <th>376</th>\n",
       "      <td>Ọbanikoro: Àjọṣepọ̀ tó wà láàárín èmi àti Fayo...</td>\n",
       "      <td>3</td>\n",
       "    </tr>\n",
       "    <tr>\n",
       "      <th>377</th>\n",
       "      <td>Ladi Àdebutu ni olùdíje gómìnà wa l'Ogun —PDP</td>\n",
       "      <td>3</td>\n",
       "    </tr>\n",
       "    <tr>\n",
       "      <th>378</th>\n",
       "      <td>Àwọn wòòlí ń takora lórí ẹni tí yóò di ààrẹ lá...</td>\n",
       "      <td>3</td>\n",
       "    </tr>\n",
       "  </tbody>\n",
       "</table>\n",
       "<p>379 rows × 2 columns</p>\n",
       "</div>"
      ],
      "text/plain": [
       "                                            news_title  label\n",
       "0       Àwọn ìgbà tí jándùkú òṣèlú tí wáyé ní Nàìjíríà      1\n",
       "1    Tanko Mohammed: Agbẹjọ́rò 250 ni Adájọ́ Àgbà ṣ...      1\n",
       "2    Boko Haram: Ilé iṣẹ́ ọmọogun kò sọ fún mi pé ọ...      1\n",
       "3    SSANU, NASU gbé fásitì Ibadan tì pa nítorí ìya...      1\n",
       "4    Tanker Fire: Eré àṣàpajúdé tí ọkọ́ epo náà sá ...      1\n",
       "..                                                 ...    ...\n",
       "374  Òbìnrin mánigbàgbé mẹ́ta nínú ìjọba tiwantiwa ...      3\n",
       "375  Bauchi Elections: Gómínà Abubakar ti kí Mohamm...      3\n",
       "376  Ọbanikoro: Àjọṣepọ̀ tó wà láàárín èmi àti Fayo...      3\n",
       "377      Ladi Àdebutu ni olùdíje gómìnà wa l'Ogun —PDP      3\n",
       "378  Àwọn wòòlí ń takora lórí ẹni tí yóò di ààrẹ lá...      3\n",
       "\n",
       "[379 rows x 2 columns]"
      ]
     },
     "execution_count": 38,
     "metadata": {},
     "output_type": "execute_result"
    }
   ],
   "source": [
    "yoruba_test = pd.read_csv(os.path.join(path, \"distant_supervision_dataset/yoruba_newsclass/test.csv\"))\n",
    "yoruba_test"
   ]
  },
  {
   "cell_type": "code",
   "execution_count": 21,
   "metadata": {},
   "outputs": [],
   "source": [
    "np.savetxt(\"/home/maha.agro/thesis/bert_lnl/BERT-LNL/data/Yoruba/txt_data/test_clean.txt\", yoruba_test[\"news_title\"].values, fmt=\"%s\")"
   ]
  },
  {
   "cell_type": "code",
   "execution_count": 14,
   "metadata": {},
   "outputs": [
    {
     "data": {
      "text/html": [
       "<div>\n",
       "<style scoped>\n",
       "    .dataframe tbody tr th:only-of-type {\n",
       "        vertical-align: middle;\n",
       "    }\n",
       "\n",
       "    .dataframe tbody tr th {\n",
       "        vertical-align: top;\n",
       "    }\n",
       "\n",
       "    .dataframe thead th {\n",
       "        text-align: right;\n",
       "    }\n",
       "</style>\n",
       "<table border=\"1\" class=\"dataframe\">\n",
       "  <thead>\n",
       "    <tr style=\"text-align: right;\">\n",
       "      <th></th>\n",
       "      <th>news_title</th>\n",
       "      <th>label</th>\n",
       "    </tr>\n",
       "  </thead>\n",
       "  <tbody>\n",
       "    <tr>\n",
       "      <th>0</th>\n",
       "      <td>Xenophobic Attack: Awọn ọmọ Nàìjíria tí yarí p...</td>\n",
       "      <td>0</td>\n",
       "    </tr>\n",
       "    <tr>\n",
       "      <th>1</th>\n",
       "      <td>Árẹ̀wá: Bákan náà ni a kò fẹ́ Atiku torí dúkìá...</td>\n",
       "      <td>3</td>\n",
       "    </tr>\n",
       "    <tr>\n",
       "      <th>2</th>\n",
       "      <td>2019 Election update: Buhari borí; ó di ààrẹ N...</td>\n",
       "      <td>3</td>\n",
       "    </tr>\n",
       "    <tr>\n",
       "      <th>3</th>\n",
       "      <td>Nathaniel Samuel: Ìwádìí tí bẹ̀rẹ̀ lórí afuras...</td>\n",
       "      <td>1</td>\n",
       "    </tr>\n",
       "    <tr>\n",
       "      <th>4</th>\n",
       "      <td>Yoruba Film: Ṣé ẹ máa wá ní Pasuma ni mo bí àw...</td>\n",
       "      <td>4</td>\n",
       "    </tr>\n",
       "    <tr>\n",
       "      <th>...</th>\n",
       "      <td>...</td>\n",
       "      <td>...</td>\n",
       "    </tr>\n",
       "    <tr>\n",
       "      <th>1335</th>\n",
       "      <td>BB Naija 2019: Ọlọ́pàá Gẹ̀ẹ́sì bẹ̀rẹ̀ ìwádìí l...</td>\n",
       "      <td>4</td>\n",
       "    </tr>\n",
       "    <tr>\n",
       "      <th>1336</th>\n",
       "      <td>End of a decade: Àwọn ìròyìn mẹ́wàá tó mí ilẹ̀...</td>\n",
       "      <td>4</td>\n",
       "    </tr>\n",
       "    <tr>\n",
       "      <th>1337</th>\n",
       "      <td>Electoral bill 2018: Èrèèdí wàhálà láàárín Buh...</td>\n",
       "      <td>3</td>\n",
       "    </tr>\n",
       "    <tr>\n",
       "      <th>1338</th>\n",
       "      <td>Onitsha market fire: Ilé tó lé ni 100 ló bá ìṣ...</td>\n",
       "      <td>1</td>\n",
       "    </tr>\n",
       "    <tr>\n",
       "      <th>1339</th>\n",
       "      <td>Election Tribunal: INEC ní òfin kò ní kí èsì ì...</td>\n",
       "      <td>3</td>\n",
       "    </tr>\n",
       "  </tbody>\n",
       "</table>\n",
       "<p>1340 rows × 2 columns</p>\n",
       "</div>"
      ],
      "text/plain": [
       "                                             news_title  label\n",
       "0     Xenophobic Attack: Awọn ọmọ Nàìjíria tí yarí p...      0\n",
       "1     Árẹ̀wá: Bákan náà ni a kò fẹ́ Atiku torí dúkìá...      3\n",
       "2     2019 Election update: Buhari borí; ó di ààrẹ N...      3\n",
       "3     Nathaniel Samuel: Ìwádìí tí bẹ̀rẹ̀ lórí afuras...      1\n",
       "4     Yoruba Film: Ṣé ẹ máa wá ní Pasuma ni mo bí àw...      4\n",
       "...                                                 ...    ...\n",
       "1335  BB Naija 2019: Ọlọ́pàá Gẹ̀ẹ́sì bẹ̀rẹ̀ ìwádìí l...      4\n",
       "1336  End of a decade: Àwọn ìròyìn mẹ́wàá tó mí ilẹ̀...      4\n",
       "1337  Electoral bill 2018: Èrèèdí wàhálà láàárín Buh...      3\n",
       "1338  Onitsha market fire: Ilé tó lé ni 100 ló bá ìṣ...      1\n",
       "1339  Election Tribunal: INEC ní òfin kò ní kí èsì ì...      3\n",
       "\n",
       "[1340 rows x 2 columns]"
      ]
     },
     "execution_count": 14,
     "metadata": {},
     "output_type": "execute_result"
    }
   ],
   "source": [
    "yoruba_train_clean = pd.read_csv('/home/maha.agro/thesis/bert_lnl/BERT-LNL/data/Yoruba/csv_data/train_clean.csv')\n",
    "yoruba_train_clean"
   ]
  },
  {
   "cell_type": "code",
   "execution_count": 23,
   "metadata": {},
   "outputs": [],
   "source": [
    "np.savetxt(\"/home/maha.agro/thesis/bert_lnl/BERT-LNL/data/Yoruba/txt_data/train_clean.txt\", yoruba_train_clean[\"news_title\"].values, fmt=\"%s\")"
   ]
  },
  {
   "cell_type": "markdown",
   "metadata": {},
   "source": [
    "## Pickling the labels"
   ]
  },
  {
   "cell_type": "code",
   "execution_count": 12,
   "metadata": {},
   "outputs": [
    {
     "data": {
      "text/plain": [
       "array([0, 3, 3, ..., 3, 1, 3])"
      ]
     },
     "execution_count": 12,
     "metadata": {},
     "output_type": "execute_result"
    }
   ],
   "source": [
    "# pickle train labels \n",
    "# open train_clean_noisy_labels.csv \n",
    "# append all labels to a list \n",
    "# pickle the saved labels \n",
    "yoruba_train[\"label\"].values"
   ]
  },
  {
   "cell_type": "code",
   "execution_count": 13,
   "metadata": {},
   "outputs": [],
   "source": [
    "with open(\"/home/maha.agro/thesis/bert_lnl/BERT-LNL/data/Yoruba/train_clean_noisy_labels.pickle\", \"wb\") as train_labels_file:\n",
    "        pickle.dump(yoruba_train[\"label\"].values.tolist(), train_labels_file)"
   ]
  },
  {
   "cell_type": "code",
   "execution_count": 42,
   "metadata": {},
   "outputs": [
    {
     "data": {
      "text/plain": [
       "array([1, 3, 1, 5, 4, 1, 1, 0, 1, 3, 1, 3, 2, 1, 2, 2, 1, 4, 1, 2, 1, 1,\n",
       "       1, 1, 1, 1, 3, 1, 1, 3, 1, 1, 1, 6, 4, 3, 6, 1, 3, 6, 3, 6, 1, 1,\n",
       "       1, 0, 1, 1, 1, 4, 0, 3, 3, 4, 1, 1, 3, 0, 3, 1, 1, 3, 4, 1, 4, 1,\n",
       "       2, 1, 4, 6, 0, 1, 4, 1, 3, 1, 1, 3, 4, 4, 1, 1, 3, 4, 3, 3, 1, 6,\n",
       "       3, 3, 1, 4, 3, 0, 5, 1, 3, 4, 3, 0, 3, 0, 1, 4, 3, 3, 4, 3, 1, 1,\n",
       "       4, 4, 4, 1, 3, 1, 1, 1, 4, 3, 2, 3, 3, 4, 1, 0, 6, 0, 1, 1, 1, 4,\n",
       "       3, 6, 1, 5, 3, 4, 4, 3, 6, 4, 4, 4, 4, 4, 1, 5, 4, 4, 0, 1, 6, 3,\n",
       "       3, 3, 1, 3, 0, 3, 1, 3, 3, 4, 0, 1, 1, 1, 4, 5, 3, 5, 1, 4, 3, 6,\n",
       "       3, 1, 3, 6, 1, 5, 1, 2, 1, 3, 4, 1, 1])"
      ]
     },
     "execution_count": 42,
     "metadata": {},
     "output_type": "execute_result"
    }
   ],
   "source": [
    "yoruba_val[\"label\"].values"
   ]
  },
  {
   "cell_type": "code",
   "execution_count": 43,
   "metadata": {},
   "outputs": [],
   "source": [
    "with open(\"/home/maha.agro/thesis/bert_lnl/BERT-LNL/data/Yoruba/txt_data/validation_clean_labels.pickle\", \"wb\") as val_labels_file:\n",
    "        pickle.dump(yoruba_val[\"label\"].values.tolist(), val_labels_file)"
   ]
  },
  {
   "cell_type": "code",
   "execution_count": 44,
   "metadata": {},
   "outputs": [
    {
     "data": {
      "text/plain": [
       "array([1, 1, 1, 1, 1, 1, 1, 1, 1, 1, 1, 1, 1, 1, 1, 1, 1, 1, 1, 1, 1, 1,\n",
       "       1, 1, 1, 1, 1, 1, 1, 1, 1, 1, 1, 1, 1, 1, 1, 1, 1, 1, 1, 1, 1, 1,\n",
       "       1, 1, 1, 1, 1, 1, 1, 1, 1, 1, 1, 1, 1, 1, 1, 1, 1, 1, 1, 1, 1, 1,\n",
       "       1, 1, 1, 1, 1, 1, 1, 1, 1, 1, 1, 1, 1, 1, 1, 1, 1, 1, 1, 1, 1, 1,\n",
       "       1, 1, 1, 1, 1, 1, 1, 1, 1, 1, 1, 1, 1, 1, 1, 1, 1, 1, 1, 1, 1, 1,\n",
       "       1, 1, 1, 1, 1, 1, 1, 1, 1, 1, 1, 1, 1, 1, 1, 1, 1, 1, 1, 1, 1, 1,\n",
       "       1, 1, 1, 1, 1, 1, 0, 0, 0, 0, 0, 0, 0, 0, 0, 0, 0, 0, 0, 0, 0, 0,\n",
       "       0, 0, 0, 0, 0, 0, 0, 0, 0, 0, 6, 6, 6, 6, 6, 6, 6, 6, 6, 6, 6, 6,\n",
       "       6, 6, 6, 6, 6, 6, 6, 6, 6, 6, 6, 6, 4, 4, 4, 4, 4, 4, 4, 4, 4, 4,\n",
       "       4, 4, 4, 4, 4, 4, 4, 4, 4, 4, 4, 4, 4, 4, 4, 4, 4, 4, 4, 4, 4, 4,\n",
       "       4, 4, 4, 4, 4, 4, 4, 4, 4, 4, 4, 4, 4, 4, 4, 4, 4, 4, 4, 4, 4, 4,\n",
       "       4, 4, 4, 4, 4, 4, 4, 4, 4, 4, 4, 4, 4, 4, 4, 4, 4, 2, 2, 2, 2, 2,\n",
       "       2, 2, 2, 2, 2, 2, 2, 2, 2, 5, 5, 5, 5, 5, 5, 5, 5, 5, 5, 5, 5, 5,\n",
       "       5, 3, 3, 3, 3, 3, 3, 3, 3, 3, 3, 3, 3, 3, 3, 3, 3, 3, 3, 3, 3, 3,\n",
       "       3, 3, 3, 3, 3, 3, 3, 3, 3, 3, 3, 3, 3, 3, 3, 3, 3, 3, 3, 3, 3, 3,\n",
       "       3, 3, 3, 3, 3, 3, 3, 3, 3, 3, 3, 3, 3, 3, 3, 3, 3, 3, 3, 3, 3, 3,\n",
       "       3, 3, 3, 3, 3, 3, 3, 3, 3, 3, 3, 3, 3, 3, 3, 3, 3, 3, 3, 3, 3, 3,\n",
       "       3, 3, 3, 3, 3])"
      ]
     },
     "execution_count": 44,
     "metadata": {},
     "output_type": "execute_result"
    }
   ],
   "source": [
    "yoruba_test[\"label\"].values"
   ]
  },
  {
   "cell_type": "code",
   "execution_count": 45,
   "metadata": {},
   "outputs": [],
   "source": [
    "with open(\"/home/maha.agro/thesis/bert_lnl/BERT-LNL/data/Yoruba/txt_data/test_clean_labels.pickle\", \"wb\") as test_labels_file:\n",
    "        pickle.dump(yoruba_test[\"label\"].values.tolist(), test_labels_file)"
   ]
  },
  {
   "cell_type": "code",
   "execution_count": 16,
   "metadata": {},
   "outputs": [
    {
     "data": {
      "text/plain": [
       "array([0, 3, 3, ..., 3, 1, 3])"
      ]
     },
     "execution_count": 16,
     "metadata": {},
     "output_type": "execute_result"
    }
   ],
   "source": [
    "yoruba_train_clean[\"label\"].values"
   ]
  },
  {
   "cell_type": "code",
   "execution_count": 17,
   "metadata": {},
   "outputs": [],
   "source": [
    "with open(\"/home/maha.agro/thesis/bert_lnl/BERT-LNL/data/Yoruba/train_clean_labels.pickle\", \"wb\") as train_clean_labels_file:\n",
    "        pickle.dump(yoruba_train_clean[\"label\"].values.tolist(), train_clean_labels_file)"
   ]
  },
  {
   "cell_type": "code",
   "execution_count": null,
   "metadata": {},
   "outputs": [],
   "source": []
  }
 ],
 "metadata": {
  "kernelspec": {
   "display_name": "bert_lnl0",
   "language": "python",
   "name": "python3"
  },
  "language_info": {
   "codemirror_mode": {
    "name": "ipython",
    "version": 3
   },
   "file_extension": ".py",
   "mimetype": "text/x-python",
   "name": "python",
   "nbconvert_exporter": "python",
   "pygments_lexer": "ipython3",
   "version": "3.8.8"
  },
  "orig_nbformat": 4,
  "vscode": {
   "interpreter": {
    "hash": "46dd1470b41e9928e017a69115aae42512702f64ca95d8e91774cc0d56d67f7e"
   }
  }
 },
 "nbformat": 4,
 "nbformat_minor": 2
}
